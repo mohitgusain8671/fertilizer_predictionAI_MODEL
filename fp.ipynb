{
 "cells": [
  {
   "cell_type": "code",
   "execution_count": 1,
   "id": "29c999a5-d3b7-43ee-8730-6d3cbf67b0d4",
   "metadata": {},
   "outputs": [
    {
     "name": "stdout",
     "output_type": "stream",
     "text": [
      "Requirement already satisfied: xgboost in c:\\users\\hp\\anaconda3\\lib\\site-packages (2.1.1)\n",
      "Requirement already satisfied: numpy in c:\\users\\hp\\anaconda3\\lib\\site-packages (from xgboost) (1.26.4)\n",
      "Requirement already satisfied: scipy in c:\\users\\hp\\anaconda3\\lib\\site-packages (from xgboost) (1.13.1)\n"
     ]
    }
   ],
   "source": [
    "! pip install xgboost"
   ]
  },
  {
   "cell_type": "code",
   "execution_count": 2,
   "id": "95125393-a2a4-4f33-b272-e2ba9e2cafec",
   "metadata": {},
   "outputs": [
    {
     "name": "stdout",
     "output_type": "stream",
     "text": [
      "Validation accuracy: 1.00\n"
     ]
    }
   ],
   "source": [
    "import pandas as pd\n",
    "from sklearn.model_selection import train_test_split\n",
    "from sklearn.preprocessing import LabelEncoder\n",
    "from xgboost import XGBClassifier\n",
    "from sklearn.metrics import accuracy_score\n",
    "\n",
    "# Load your dataset (replace 'your_dataset.csv' with your actual file)\n",
    "data = pd.read_csv('Fertilizer_pre.csv')\n",
    "\n",
    "# Correct feature names\n",
    "data.rename(columns={'Temparature': 'Temperature', 'Humidity ': 'Humidity'}, inplace=True)\n",
    "\n",
    "# Separate features and target variable\n",
    "X = data.drop(columns=['Fertilizer Name'])\n",
    "y = data['Fertilizer Name']\n",
    "\n",
    "# Map fertilizer names to numeric labels (if not done already)\n",
    "fertilizer_mapping = {\n",
    "    '10-26-26': 0,\n",
    "    '14-35-14': 1,\n",
    "    '17-17-17': 2,\n",
    "    '20-20': 3,\n",
    "    '28-28': 4,\n",
    "    'DAP': 5,\n",
    "    'Urea': 6\n",
    "}\n",
    "y = y.map(fertilizer_mapping)\n",
    "\n",
    "# Encode categorical features\n",
    "le_soil = LabelEncoder()\n",
    "le_crop = LabelEncoder()\n",
    "X['Soil Type'] = le_soil.fit_transform(X['Soil Type'])\n",
    "X['Crop Type'] = le_crop.fit_transform(X['Crop Type'])\n",
    "\n",
    "# Split data into training, validation, and test sets\n",
    "X_train, X_temp, y_train, y_temp = train_test_split(X, y, test_size=0.3, random_state=42)\n",
    "X_val, X_test, y_val, y_test = train_test_split(X_temp, y_temp, test_size=0.5, random_state=42)\n",
    "\n",
    "# Initialize and train the model\n",
    "model = XGBClassifier()\n",
    "model.fit(X_train, y_train)\n",
    "\n",
    "# Make predictions on the validation set\n",
    "y_val_pred = model.predict(X_val)\n",
    "\n",
    "# Evaluate model accuracy on validation set\n",
    "val_accuracy = accuracy_score(y_val, y_val_pred)\n",
    "print(f\"Validation accuracy: {val_accuracy:.2f}\")\n"
   ]
  },
  {
   "cell_type": "code",
   "execution_count": 3,
   "id": "5f87267f-84b7-4501-8b68-466b9b24b57b",
   "metadata": {},
   "outputs": [],
   "source": [
    "import pickle\n",
    "pickle.dump(model, open(\"fertilizer_model.pkl\", \"wb\"))"
   ]
  },
  {
   "cell_type": "code",
   "execution_count": 4,
   "id": "599c1f9c-40ab-469e-ba0c-f5a0b2c5404e",
   "metadata": {},
   "outputs": [],
   "source": [
    "# Load the model from the pickle file\n",
    "with open('fertilizer_model.pkl', 'rb') as file:\n",
    "    loaded_model = pickle.load(file)\n"
   ]
  },
  {
   "cell_type": "code",
   "execution_count": 5,
   "id": "f5d0aef7-e1a8-4d2c-b111-d5bc1deb4933",
   "metadata": {},
   "outputs": [
    {
     "name": "stdout",
     "output_type": "stream",
     "text": [
      "Predicted fertilizer: Urea\n"
     ]
    }
   ],
   "source": [
    "new_data = pd.DataFrame({\n",
    "    'Temperature': [28],\n",
    "    'Humidity': [54],\n",
    "    'Moisture': [46],\n",
    "    'Soil Type': [le_soil.transform(['Clayey'])[0]],\n",
    "    'Crop Type': [le_crop.transform(['Wheat'])[0]],\n",
    "    'Nitrogen': [50],\n",
    "    'Potassium': [4],\n",
    "    'Phosphorous': [3]\n",
    "})\n",
    "new_data = new_data[X.columns]\n",
    "\n",
    "predicted_label = loaded_model.predict(new_data)[0]\n",
    "predicted_fertilizer = next(key for key, value in fertilizer_mapping.items() if value == predicted_label)\n",
    "print(f\"Predicted fertilizer: {predicted_fertilizer}\")"
   ]
  },
  {
   "cell_type": "code",
   "execution_count": null,
   "id": "f570d927-6a4b-4e9e-83cf-13dc625e401e",
   "metadata": {},
   "outputs": [],
   "source": []
  }
 ],
 "metadata": {
  "kernelspec": {
   "display_name": "Python 3 (ipykernel)",
   "language": "python",
   "name": "python3"
  },
  "language_info": {
   "codemirror_mode": {
    "name": "ipython",
    "version": 3
   },
   "file_extension": ".py",
   "mimetype": "text/x-python",
   "name": "python",
   "nbconvert_exporter": "python",
   "pygments_lexer": "ipython3",
   "version": "3.12.4"
  }
 },
 "nbformat": 4,
 "nbformat_minor": 5
}
